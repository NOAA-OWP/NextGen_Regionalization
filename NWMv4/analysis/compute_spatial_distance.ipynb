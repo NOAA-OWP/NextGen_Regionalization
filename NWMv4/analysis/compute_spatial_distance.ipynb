{
 "cells": [
  {
   "cell_type": "code",
   "execution_count": 87,
   "metadata": {},
   "outputs": [],
   "source": [
    "import geopandas as gpd\n",
    "import pandas as pd"
   ]
  },
  {
   "cell_type": "code",
   "execution_count": 88,
   "metadata": {},
   "outputs": [],
   "source": [
    "# read in shapefile as GeoDataFrame\n",
    "shps_rec = gpd.read_file(\"../../datasets/gpkg_v0/catchment_data.geojson\")\n",
    "shps_don = gpd.read_file(\"../../datasets/gpkg_v1.2/catchment_data.geojson\")"
   ]
  },
  {
   "cell_type": "code",
   "execution_count": 89,
   "metadata": {},
   "outputs": [],
   "source": [
    "# get donor and receiver catchment IDs\n",
    "donors = pd.read_csv('../data/all_attrs_donors.csv')['id'].to_list()\n",
    "receivers = pd.read_csv('../data/all_attrs_receivers.csv')['id'].to_list()"
   ]
  },
  {
   "cell_type": "code",
   "execution_count": 90,
   "metadata": {},
   "outputs": [],
   "source": [
    "# filter donors and receiver GeoDataFrames to those needed\n",
    "shps_rec = shps_rec[shps_rec['id'].isin(receivers)]\n",
    "shps_don = shps_don[shps_don['id'].isin(donors)]"
   ]
  },
  {
   "cell_type": "code",
   "execution_count": 91,
   "metadata": {},
   "outputs": [],
   "source": [
    "# reindex the GeoDataFrames by order of ids in donors and receivers\n",
    "shps_rec = shps_rec.set_index('id')\n",
    "shps_rec = shps_rec.reindex(receivers)\n",
    "shps_don = shps_don.set_index('id')\n",
    "shps_don = shps_don.reindex(donors)"
   ]
  },
  {
   "cell_type": "code",
   "execution_count": 92,
   "metadata": {},
   "outputs": [],
   "source": [
    "# reproject from geodetic coordinates to meters\n",
    "shps_don = shps_don.to_crs(crs=3857)\n",
    "shps_rec = shps_rec.to_crs(crs=3857)"
   ]
  },
  {
   "cell_type": "code",
   "execution_count": 93,
   "metadata": {},
   "outputs": [],
   "source": [
    "# calculate centroids of donor and receiver catchments\n",
    "cent_don = shps_don['geometry'].centroid\n",
    "cent_rec = shps_rec['geometry'].centroid\n"
   ]
  },
  {
   "cell_type": "code",
   "execution_count": 94,
   "metadata": {},
   "outputs": [],
   "source": [
    "# convert centroids from GeoSeries to GeoDataFrame\n",
    "cent_don = gpd.GeoDataFrame(geometry=cent_don)\n",
    "cent_rec = gpd.GeoDataFrame(geometry=cent_rec)"
   ]
  },
  {
   "cell_type": "code",
   "execution_count": 95,
   "metadata": {},
   "outputs": [],
   "source": [
    "# calcualte distance between all receiver and donor centroids\n",
    "def calculate_distances(row):\n",
    "    return cent_don.distance(row.geometry)\n",
    "\n",
    "distances = cent_rec.apply(calculate_distances,axis=1)"
   ]
  },
  {
   "cell_type": "code",
   "execution_count": 96,
   "metadata": {},
   "outputs": [],
   "source": [
    "# reset the columns and index of the distance matrix\n",
    "distances.columns = donors\n",
    "distances.index = receivers"
   ]
  },
  {
   "cell_type": "code",
   "execution_count": 97,
   "metadata": {},
   "outputs": [],
   "source": [
    "distances = distances.div(1000)\n",
    "distances = distances.astype(int)"
   ]
  },
  {
   "cell_type": "markdown",
   "metadata": {},
   "source": [
    "## comparing the distances calculated in R and python"
   ]
  },
  {
   "cell_type": "code",
   "execution_count": 104,
   "metadata": {},
   "outputs": [],
   "source": [
    "# distance computed in R\n",
    "f1 = '../data/dist_spatial_donor_receiver_R.csv'\n",
    "ds1 = pd.read_csv(f1,index_col=0)\n",
    "\n",
    "# distance computed in Python\n",
    "f2 = '../data/dist_spatial_donor_receiver.csv'\n",
    "ds2 = pd.read_csv(f2,index_col=0)"
   ]
  },
  {
   "cell_type": "code",
   "execution_count": null,
   "metadata": {},
   "outputs": [],
   "source": [
    "# compute difference\n",
    "ds2 = ds2.reindex(ds1.index)\n",
    "ds2 = ds2[ds1.columns.to_list()]\n",
    "df1 = ds1 - ds2\n",
    "print(pd.DataFrame(df1.values.flatten()).describe())"
   ]
  },
  {
   "cell_type": "code",
   "execution_count": 106,
   "metadata": {},
   "outputs": [
    {
     "name": "stdout",
     "output_type": "stream",
     "text": [
      "736\n",
      "735\n"
     ]
    }
   ],
   "source": [
    "# comparing a given cell\n",
    "print(ds1.loc['cat-100','cat-12790'])\n",
    "print(ds2.loc['cat-100','cat-12790'])"
   ]
  }
 ],
 "metadata": {
  "kernelspec": {
   "display_name": "ds_venv",
   "language": "python",
   "name": "python3"
  },
  "language_info": {
   "codemirror_mode": {
    "name": "ipython",
    "version": 3
   },
   "file_extension": ".py",
   "mimetype": "text/x-python",
   "name": "python",
   "nbconvert_exporter": "python",
   "pygments_lexer": "ipython3",
   "version": "3.8.14"
  },
  "orig_nbformat": 4
 },
 "nbformat": 4,
 "nbformat_minor": 2
}
