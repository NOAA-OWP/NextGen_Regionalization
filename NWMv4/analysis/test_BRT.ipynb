{
 "cells": [
  {
   "cell_type": "code",
   "execution_count": 1,
   "metadata": {},
   "outputs": [
    {
     "data": {
      "text/plain": [
       "0.25933363851463054"
      ]
     },
     "execution_count": 1,
     "metadata": {},
     "output_type": "execute_result"
    }
   ],
   "source": [
    "# Install scikit-learn using conda or pip if you don't already have it installed\n",
    "from sklearn.datasets import make_regression\n",
    "from sklearn.ensemble import GradientBoostingRegressor\n",
    "from sklearn.model_selection import train_test_split\n",
    "\n",
    "# Generate some synthetic data\n",
    "X, y = make_regression()\n",
    "\n",
    "# Split the synthetic data into train and test arrays\n",
    "X_train, X_test, y_train, y_test = train_test_split(X, y)\n",
    "\n",
    "# The number of trees is set by n_estimators; there are many other options that\n",
    "# you should experiment with. Typically the defaults will be sensible but are\n",
    "# unlikely to be perfect for your use case. Let's create the empty model:\n",
    "reg = GradientBoostingRegressor(n_estimators=100,\n",
    "                                max_depth=3,\n",
    "                                learning_rate=0.1,\n",
    "                                min_samples_split=3)\n",
    "# Fit the model\n",
    "reg.fit(X_train, y_train)\n",
    "\n",
    "# Predict the value of the first test case\n",
    "reg.predict(X_test[:1])\n",
    "\n",
    "# R^2 score for the model (on the test data)\n",
    "reg.score(X_test, y_test)"
   ]
  }
 ],
 "metadata": {
  "kernelspec": {
   "display_name": "ds_venv",
   "language": "python",
   "name": "python3"
  },
  "language_info": {
   "codemirror_mode": {
    "name": "ipython",
    "version": 3
   },
   "file_extension": ".py",
   "mimetype": "text/x-python",
   "name": "python",
   "nbconvert_exporter": "python",
   "pygments_lexer": "ipython3",
   "version": "3.8.14"
  },
  "orig_nbformat": 4
 },
 "nbformat": 4,
 "nbformat_minor": 2
}
